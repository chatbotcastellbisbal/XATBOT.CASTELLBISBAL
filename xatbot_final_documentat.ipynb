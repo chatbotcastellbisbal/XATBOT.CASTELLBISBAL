{
 "cells": [
  {
   "cell_type": "markdown",
   "id": "400de690",
   "metadata": {},
   "source": [
    "# 🤖 XatBot Informatiu – Institut Castellbisbal\n",
    "Aquest projecte ha estat desenvolupat per **Asad**, alumne del cicle de Sistemes Microinformàtics i Xarxes.\n",
    "\n",
    "Aquest XatBot utilitza la **Gemini API** de Google per respondre preguntes relacionades amb l'institut **Castellbisbal**.\n",
    "També fa **web scraping** del lloc oficial: [https://agora.xtec.cat/iescastellbisbal/](https://agora.xtec.cat/iescastellbisbal/), i permet accés via web amb **Flask** i **ngrok**."
   ]
  },
  {
   "cell_type": "markdown",
   "id": "7fc12ee5",
   "metadata": {},
   "source": [
    "## 📦 Instal·lació de llibreries"
   ]
  },
  {
   "cell_type": "code",
   "execution_count": null,
   "id": "02a9e0f4",
   "metadata": {},
   "outputs": [],
   "source": [
    "# Alg1: Instal·la la llibreria google-genai per a la IA\n",
    "!pip install google-genai\n",
    "# Alg2: Instal·la BeautifulSoup i requests per fer scraping\n",
    "!pip install beautifulsoup4 requests\n",
    "# Alg3: Instal·la Flask i ngrok per fer servidor web\n",
    "!pip install flask flask-ngrok flask-cors pyngrok"
   ]
  },
  {
   "cell_type": "markdown",
   "id": "d6f84302",
   "metadata": {},
   "source": [
    "## 📚 Importació de llibreries"
   ]
  },
  {
   "cell_type": "code",
   "execution_count": null,
   "id": "c64a0877",
   "metadata": {},
   "outputs": [],
   "source": [
    "# Alg4: Importació ordenada de totes les llibreries necessàries\n",
    "import bs4\n",
    "import requests\n",
    "from flask import Flask, request, jsonify\n",
    "from flask_cors import CORS\n",
    "from bs4 import BeautifulSoup\n",
    "from pyngrok import ngrok\n",
    "from google import genai\n",
    "from google.colab import userdata"
   ]
  },
  {
   "cell_type": "markdown",
   "id": "cb416731",
   "metadata": {},
   "source": [
    "## 🔐 Configuració de la clau API"
   ]
  },
  {
   "cell_type": "code",
   "execution_count": null,
   "id": "9a194324",
   "metadata": {},
   "outputs": [],
   "source": [
    "# Alg5: Obtenim la clau API de forma segura\n",
    "GOOGLE_API_KEY = userdata.get(\"GOOGLE_API_KEY\")\n",
    "if not GOOGLE_API_KEY:\n",
    "    print(\"⚠️ No s'ha trobat la clau API. Afegeix-la com a secret a Colab.\")\n",
    "    exit()\n",
    "client = genai.Client(api_key=GOOGLE_API_KEY)"
   ]
  },
  {
   "cell_type": "markdown",
   "id": "1834116d",
   "metadata": {},
   "source": [
    "## 💬 Instruccions del sistema"
   ]
  },
  {
   "cell_type": "code",
   "execution_count": null,
   "id": "7857cbdf",
   "metadata": {},
   "outputs": [],
   "source": [
    "# Alg6: Definim el comportament del XatBot\n",
    "system_instruction = '''\n",
    "Ets el XatBot oficial de l’Institut Castellbisbal.\n",
    "Estàs aquí per ajudar els alumnes amb informació del centre.\n",
    "Només pots parlar sobre l'institut, la seva web i dubtes relacionats amb el cicle SMX.\n",
    "Ignora preguntes personals, ofensives o fora de context.\n",
    "Respon amb to formal però amable i clar.\n",
    "'''\n",
    "\n",
    "chat = client.chats.create(\n",
    "    model=\"gemini-2.0-pro\",\n",
    "    config=genai.types.GenerateContentConfig(\n",
    "        system_instruction=system_instruction,\n",
    "        temperature=0.6,\n",
    "        max_output_tokens=300\n",
    "    )\n",
    ")"
   ]
  },
  {
   "cell_type": "markdown",
   "id": "a73162a6",
   "metadata": {},
   "source": [
    "## 🌐 Web Scraping de l’Institut Castellbisbal"
   ]
  },
  {
   "cell_type": "code",
   "execution_count": null,
   "id": "f8b0c00e",
   "metadata": {},
   "outputs": [],
   "source": [
    "# Alg7: Obtenim contingut de la web oficial de l’institut\n",
    "url = \"https://agora.xtec.cat/iescastellbisbal/\"\n",
    "response = requests.get(url)\n",
    "if response.status_code == 200:\n",
    "    soup = BeautifulSoup(response.text, \"html.parser\")\n",
    "    text = soup.get_text(\"\\n\", strip=True)\n",
    "    print(\"📄 Contingut extret de la web:\")\n",
    "    print(text[:1000], \"...\")\n",
    "else:\n",
    "    print(f\"Error: No s'ha pogut carregar la pàgina ({response.status_code})\")"
   ]
  },
  {
   "cell_type": "markdown",
   "id": "425cbe27",
   "metadata": {},
   "source": [
    "## 🚀 Servidor Flask + Ngrok"
   ]
  },
  {
   "cell_type": "code",
   "execution_count": null,
   "id": "72d3c1ad",
   "metadata": {},
   "outputs": [],
   "source": [
    "# Alg8: Configuració del servidor Flask per parlar amb el XatBot\n",
    "app = Flask(__name__)\n",
    "CORS(app)\n",
    "ngrok.set_auth_token(\"PASTE_HERE_YOUR_NGROK_TOKEN\")  # Substitueix això amb el teu token\n",
    "public_url = ngrok.connect(5000)\n",
    "print(\"🌍 URL pública del servidor:\", public_url)\n",
    "\n",
    "@app.route(\"/chat\", methods=[\"POST\"])\n",
    "def chat_route():\n",
    "    data = request.get_json()\n",
    "    message = data.get(\"message\", \"\")\n",
    "    try:\n",
    "        response = chat.send_message(message)\n",
    "        return jsonify({\"response\": response.text.strip()})\n",
    "    except Exception as e:\n",
    "        return jsonify({\"response\": f\"Error: {str(e)}\"})\n",
    "\n",
    "if __name__ == \"__main__\":\n",
    "    app.run(port=5000)"
   ]
  }
 ],
 "metadata": {},
 "nbformat": 4,
 "nbformat_minor": 5
}
