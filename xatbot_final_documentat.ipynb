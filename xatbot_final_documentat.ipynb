{
  "cells": [
    {
      "cell_type": "markdown",
      "metadata": {},
      "source": [
        "# \ud83e\udd16 XatBot Informatiu \u2013 Institut Castellbisbal\n",
        "Aquest projecte ha estat desenvolupat per **Asad**, alumne del cicle de Sistemes Microinform\u00e0tics i Xarxes.\n",
        "Aquest XatBot utilitza la **Gemini API** de Google per respondre preguntes relacionades amb l'institut **Castellbisbal**.\n",
        "Tamb\u00e9 fa **web scraping** del lloc oficial: [https://agora.xtec.cat/iescastellbisbal/](https://agora.xtec.cat/iescastellbisbal/), i permet acc\u00e9s via web amb **Flask** i **ngrok**."
      ]
    },
    {
      "cell_type": "code",
      "metadata": {},
      "source": [
        "!pip install google-genai\n",
        "!pip install beautifulsoup4 requests\n",
        "!pip install flask flask-ngrok flask-cors pyngrok"
      ]
    },
    {
      "cell_type": "code",
      "metadata": {},
      "source": [
        "import bs4\n",
        "import requests\n",
        "from flask import Flask, request, jsonify\n",
        "from flask_cors import CORS\n",
        "from bs4 import BeautifulSoup\n",
        "from pyngrok import ngrok\n",
        "from google import genai\n",
        "from google.colab import userdata"
      ]
    },
    {
      "cell_type": "code",
      "metadata": {},
      "source": [
        "GOOGLE_API_KEY = userdata.get(\"GOOGLE_API_KEY\")\n",
        "if not GOOGLE_API_KEY:\n",
        "    print(\"\u26a0\ufe0f No s'ha trobat la clau API. Afegeix-la com a secret a Colab.\")\n",
        "    exit()\n",
        "genai.configure(api_key=GOOGLE_API_KEY)"
      ]
    },
    {
      "cell_type": "code",
      "metadata": {},
      "source": [
        "system_instruction = '''\n",
        "Ets el XatBot oficial de l\u2019Institut Castellbisbal.\n",
        "Est\u00e0s aqu\u00ed per ajudar els alumnes amb informaci\u00f3 del centre.\n",
        "Nom\u00e9s pots parlar sobre l'institut, la seva web i dubtes relacionats amb el cicle SMX.\n",
        "Ignora preguntes personals, ofensives o fora de context.\n",
        "Respon amb to formal per\u00f2 amable i clar.\n",
        "'''\n",
        "\n",
        "chat = genai.GenerativeModel(\n",
        "    model_name=\"models/gemini-pro\",\n",
        "    generation_config=genai.types.GenerationConfig(\n",
        "        temperature=0.6,\n",
        "        max_output_tokens=300\n",
        "    ),\n",
        "    system_instruction=system_instruction\n",
        ").start_chat()"
      ]
    },
    {
      "cell_type": "code",
      "metadata": {},
      "source": [
        "url = \"https://agora.xtec.cat/iescastellbisbal/\"\n",
        "headers = {\"User-Agent\": \"Mozilla/5.0\"}  # Evita error 403\n",
        "response = requests.get(url, headers=headers)\n",
        "\n",
        "if response.status_code == 200:\n",
        "    soup = BeautifulSoup(response.text, \"html.parser\")\n",
        "    text = soup.get_text(\"\\n\", strip=True)\n",
        "    print(\"\ud83d\udcc4 Contingut extret de la web:\")\n",
        "    print(text[:1000], \"...\")\n",
        "else:\n",
        "    print(f\"Error: No s'ha pogut carregar la p\u00e0gina ({response.status_code})\")"
      ]
    },
    {
      "cell_type": "code",
      "metadata": {},
      "source": [
        "app = Flask(__name__)\n",
        "CORS(app)\n",
        "\n",
        "ngrok.set_auth_token(\"2wzQohZy5slWj5yERfszO0wZyOu_3ui4yV7JPiduLPisjQZPb\")\n",
        "public_url = ngrok.connect(5000)\n",
        "print(\"\ud83c\udf0d URL p\u00fablica del servidor:\", public_url)\n",
        "\n",
        "@app.route(\"/chat\", methods=[\"POST\"])\n",
        "def chat_route():\n",
        "    data = request.get_json()\n",
        "    message = data.get(\"message\", \"\")\n",
        "    try:\n",
        "        response = chat.send_message(message)\n",
        "        return jsonify({\"response\": response.text.strip()})\n",
        "    except Exception as e:\n",
        "        return jsonify({\"response\": f\"Error: {str(e)}\"})\n",
        "\n",
        "if __name__ == \"__main__\":\n",
        "    app.run(port=5000)"
      ]
    }
  ],
  "metadata": {},
  "nbformat": 4,
  "nbformat_minor": 5
}
